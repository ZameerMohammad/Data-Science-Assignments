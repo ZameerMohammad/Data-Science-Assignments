# -*- coding: utf-8 -*-
"""
Created on Wed Jan 10 08:53:57 2024

@author: surya
"""

'''
A F&B manager wants to determine whether there is any significant difference in
the diameter of the cutlet between two units. A randomly selected sample of 
cutlets was collected from both units and measured? Analyze the data and draw 
inferences at 5% significance level. Please state the assumptions and tests 
that you carried out to check validity of the assumptions.
Minitab File : Cutlets.mtw
'''

#1)
# Import necessary libraries
import pandas as pd
from scipy import stats
import matplotlib.pyplot as plt

# Load the data from Minitab file
cutlets_data = pd.read_csv('Cutlets.csv')
cutlets_data

# Extract data for each unit
unitA_data = cutlets_data['Unit A']
unitB_data = cutlets_data['Unit B']

# Visualize the data using histograms
plt.hist(unitA_data, alpha=0.5, label='Unit A')
plt.hist(unitB_data, alpha=0.5, label='Unit B')
plt.legend()
plt.title('Histogram of Cutlet Diameters for Unit A and Unit B')
plt.xlabel('Cutlet Diameter')
plt.ylabel('Frequency')
plt.show()

# Check normality assumption using Shapiro-Wilk test
stat_unitA, p_value_unitA = stats.shapiro(unitA_data)
stat_unitB, p_value_unitB = stats.shapiro(unitB_data)

print(f'Shapiro-Wilk Test for Normality - Unit A: p-value = {p_value_unitA}')
print(f'Shapiro-Wilk Test for Normality - Unit B: p-value = {p_value_unitB}')

# Check homogeneity of variances using Levene's test
stat_levene, p_value_levene = stats.levene(unitA_data, unitB_data)

print(f'Levene\'s Test for Homogeneity of Variances: p-value = {p_value_levene}')

# Perform two-sample t-test assuming unequal variances
t_stat, p_value_ttest = stats.ttest_ind(unitA_data, unitB_data, equal_var=False)

print(f'Two-Sample T-Test: t-statistic = {t_stat}, p-value = {p_value_ttest}')

# Draw inferences based on the p-value
alpha = 0.05
if p_value_ttest < alpha:
    print('There is a significant difference in the diameter of cutlets between the two units.')
else:
    print('There is no significant difference in the diameter of cutlets between the two units.')

#==============================================================================

#==============================================================================
'''
A hospital wants to determine whether there is any difference in the average 
Turn Around Time (TAT) of reports of the laboratories on their preferred list. 
They collected a random sample and recorded TAT for reports of 4 laboratories.
TAT is defined as sample collected to report dispatch.
   
 Analyze the data and determine whether there is any difference in average TAT 
among the different laboratories at 5% significance level.
 
 Minitab File: LabTAT.mtw
'''

#2)

import pandas as pd
from scipy.stats import f_oneway

# Load your data into a Pandas DataFrame
data = pd.read_csv('LabTAT.csv')
data
list(data)

# Check the structure of your data
print(data.head())

# Calculate Turn Around Time (TAT) for each laboratory
data['TAT_Lab1'] = data['Laboratory 1']
data['TAT_Lab2'] = data['Laboratory 2']
data['TAT_Lab3'] = data['Laboratory 3']
data['TAT_Lab4'] = data['Laboratory 4']

# Display the updated data with TAT columns
print(data.head())

# Perform one-way ANOVA
f_statistic, p_value = f_oneway(data['TAT_Lab1'], data['TAT_Lab2'], data['TAT_Lab3'], data['TAT_Lab4'])

# Display results
print("F-statistic:", f_statistic)
print("P-value:", p_value)

# Check significance at 5% level
alpha = 0.05
if p_value < alpha:
    print("Reject the null hypothesis. There is a significant difference in average TAT among the laboratories.")
else:
    print("Fail to reject the null hypothesis. There is no significant difference in average TAT among the laboratories.")

#==============================================================================

#==============================================================================
'''
Sales of products in four different regions is tabulated for males and females. 
Find if male-female buyer rations are similar across regions.
'''

#3)
import pandas as pd
from scipy.stats import chi2_contingency

# Read the data from the CSV file
data = pd.read_csv("BuyerRatio.csv")
data

# Extract observed values for males and females in different regions
observed_values = data.iloc[:, 1:].values

# Perform chi-squared test
chi2_stat, p_value, dof, expected = chi2_contingency(observed_values)

# Print results
print(f"Chi-Squared Statistic: {chi2_stat}")
print(f"P-value: {p_value}")
print(f"Degrees of Freedom: {dof}")
print("Expected Frequencies:")
print(expected)

# Check significance at 5% level
alpha = 0.05
if p_value < alpha:
    print("Reject the null hypothesis. There is evidence that the male-female buyer ratios differ across regions.")
else:
    print("Fail to reject the null hypothesis. There is no significant evidence that the male-female buyer ratios differ across regions.")
    
    
    
#==============================================================================

#==============================================================================
'''

TeleCall uses 4 centers around the globe to process customer order forms.
They audit a certain %  of the customer order forms. Any error in order form 
renders it defective and has to be reworked before processing.  The manager
wants to check whether the defective %  varies by centre. Please analyze the 
data at 5% significance level and help the manager draw appropriate inferences

Minitab File: CustomerOrderForm.mtw

'''

#4)
import pandas as pd
from scipy.stats import chi2_contingency

# Load your data into a Pandas DataFrame
# Adjust the file path accordingly
data = pd.read_csv('Costomer+OrderForm.csv')
data.shape
list(data)
data

# Example data
data = {'Variable_A': ['Defective'],
        'Variable_B': ['Error Free']}

df = pd.DataFrame(data)

# Create a contingency table
contingency_table = pd.crosstab(df['Variable_A'], df['Variable_B'])

# Display the contingency table
print("\nContingency Table:")
print(contingency_table)

# Perform chi-squared test
chi2_stat, p_value, dof, expected = chi2_contingency(contingency_table)

# Print results
print(f"\nChi-Squared Statistic: {chi2_stat}")
print(f"P-value: {p_value}")
print(f"Degrees of Freedom: {dof}")
print("Expected Frequencies:")
print(expected)

# Check significance at 5% level
alpha = 0.05
if p_value < alpha:
    print('\nThere is a significant difference in defective percentages among the centers.')
else:
    print('\nThere is no significant difference in defective percentages among the centers.')

###
