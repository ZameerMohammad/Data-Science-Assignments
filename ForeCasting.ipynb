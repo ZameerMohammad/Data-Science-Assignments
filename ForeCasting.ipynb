# -*- coding: utf-8 -*-
"""
Created on Thu Jan 11 12:57:49 2024

@author: zameer
"""

#-------------------------------- Airlines+Data ----------------------------------------

import numpy as np
import pandas as pd
import matplotlib.pyplot as plt
import seaborn as sns
pd.set_option('display.max_columns',20)

data = pd.read_excel('Airlines+Data.xlsx',
                     names=['Date','Passengers'],
                     sheet_name='Sheet1',parse_dates=True)

data.head()

plt.figure(figsize=(15,5))
plt.plot(data['Date'],data['Passengers'])

data['Year'] = data['Date'].dt.strftime('%y')
data['Month'] = data['Date'].dt.strftime('%b')

data['t'] = data.index+1
data['t_square'] = data['t']**2
data['log_passengers'] = np.log(data['Passengers'])
data.index = data['Date']
data = pd.get_dummies(data=data, columns=['Month'])
data.head()

plt.figure(figsize=(15,5))
sns.lineplot(data=data,x='Year',y='Passengers')

data.shape

data.describe()

train = data.iloc[:86]
test = data.iloc[86:]

# Building Models
# Linear model

import statsmodels.formula.api as smf
from sklearn.metrics import mean_squared_error

linear_model = smf.ols('Passengers~t', data=train).fit()
pred_linear = linear_model.predict(test['t'])
rmse_linear = np.sqrt(mean_squared_error(test['Passengers'],pred_linear))
print('rmse for linear model is',rmse_linear)

# Exponential model

exp_model = smf.ols('log_passengers~t', data=train).fit()
pred_exp = exp_model.predict(test['t'])
rmse_exp = np.sqrt(mean_squared_error(test['log_passengers'],pred_exp))
print('rmse for exponential model',rmse_exp)

# Quadratic model

quad_model = smf.ols('Passengers~t+t_square', data=train).fit()
pred_quad = quad_model.predict(test[['t','t_square']])
rmse_quad = np.sqrt(mean_squared_error(test['Passengers'],pred_quad))
print('rmse for quadratic model is',rmse_quad)

# Additive Seasonality Linear Model

add_sea = smf.ols('Passengers~Month_Jan+Month_Feb+Month_Mar+Month_Apr+Month_Jun+Month_Jul+Month_Aug+Month_Sep+Month_Oct+Month_Nov+Month_Dec', data=train).fit()
pred_add_sea = add_sea.predict(test[['Month_Jan','Month_Feb','Month_Mar','Month_Apr','Month_May','Month_Jun','Month_Jul','Month_Aug','Month_Sep','Month_Oct','Month_Nov','Month_Dec']])
rmse_add_sea = np.sqrt(mean_squared_error(test['Passengers'],pred_add_sea))
print('rmse for additive seasonality model is',rmse_add_sea)

# Additive Seasonality Quadratic Model

add_sea_quad_model = smf.ols('Passengers~t+t_square+Month_Jan+Month_Feb+Month_Mar+Month_Apr+Month_Jun+Month_Jul+Month_Aug+Month_Sep+Month_Oct+Month_Nov+Month_Dec', data=train).fit()
pred_add_sea_quad = add_sea_quad_model.predict(test[['t','t_square','Month_Jan','Month_Feb','Month_Mar','Month_Apr','Month_May','Month_Jun','Month_Jul','Month_Aug','Month_Sep','Month_Oct','Month_Nov','Month_Dec']])
rmse_add_sea_quad = np.sqrt(mean_squared_error(test['Passengers'],pred_add_sea_quad))
print('rmse for additive seasonality quadratic model is',rmse_add_sea_quad)

# Multiplicative Seasonality Model

mult_sea_model = smf.ols('log_passengers~Month_Jan+Month_Feb+Month_Mar+Month_Apr+Month_Jun+Month_Jul+Month_Aug+Month_Sep+Month_Oct+Month_Nov+Month_Dec', data=train).fit()
pred_mult_sea = mult_sea_model.predict(test[['Month_Jan','Month_Feb','Month_Mar','Month_Apr','Month_May','Month_Jun','Month_Jul','Month_Aug','Month_Sep','Month_Oct','Month_Nov','Month_Dec']])
rmse_mult_sea = np.sqrt(mean_squared_error(test['log_passengers'],pred_mult_sea))
print('rmse for multiplicative seasonality model is',rmse_mult_sea)

# Summarizing results

result_data = pd.DataFrame({'Model':['linear','exponential','quadratic','add_sea','add_sea_quad','mul_sea'],
                            'RMSE_values':[rmse_linear,rmse_exp,rmse_quad,rmse_add_sea,rmse_add_sea_quad,rmse_mult_sea]})
result_data.sort_values('RMSE_values')

# Observation from the model
# We can say that exponential model has less rmse error

plt.figure(figsize=(15,5))
sns.lineplot(data=data, x='Date', y='Passengers')
sns.lineplot(x=test['Date'], y=pred_linear, label='linear model')
sns.lineplot(x=test['Date'], y=np.exp(pred_exp), label='exponential model')
sns.lineplot(x=test['Date'], y=pred_quad, label='quadratic model')
sns.lineplot(x=test['Date'], y=pred_add_sea, label='additive seasonality model')
sns.lineplot(x=test['Date'], y=pred_add_sea_quad, label='additive seasonality quadratic model')
sns.lineplot(x=test['Date'], y=np.exp(pred_mult_sea), label='multiplicative seasonality model')
plt.legend()

'''
# ARIMA model
Checking data

p>0.05 --> Non-stationary

p<0.05 --> Stationary
'''
from statsmodels.tsa.stattools import adfuller

def ad_test(dataset):
    dftest = adfuller(dataset,autolag='AIC')
    print("p-value: ",dftest[1])

ad_test(data['Passengers'])

# FROM THE MODEL WE CAN SAY THAT MODEL IS STATIONARY.

# ETS decomposition (Error, Trend & Seasonality)
from statsmodels.tsa.seasonal import seasonal_decompose

result = seasonal_decompose(data['Passengers'],model='multiplicative')
result.plot();

pip install pmdarima

from pmdarima import auto_arima
stepwise_fit = auto_arima(data['Passengers'],
                          start_p=1, start_q=1, max_p=3, max_q=3,
                          m=12, start_P=0, seasonal=True, d=None, D=1, trace=True,
                          error_action='ignore', suppress_warnings=True, stepwise=True)

stepwise_fit.summary()

from statsmodels.tsa.statespace.sarimax import SARIMAX

arima_model = SARIMAX(train['Passengers'],order=(1,1,0),seasonal_order=(1,1,0,12))
arima_model = arima_model.fit()
arima_model.summary()

start = len(train)
end = len(train)+len(test)-1
print(start,end)

pred_arima = arima_model.predict(start=start, end=end)
pred_arima

rmse_arima = np.sqrt(mean_squared_error(pred_arima,test['Passengers']))
print('rmse for ARIMA model is',rmse_arima)

plt.figure(figsize=(15,5))
sns.lineplot(data=data, x='Date', y='Passengers')
sns.lineplot(pred_arima, label='ARIMA prediction')

'''
# Observation from the model
# from the model we can say that exponetial model is best fitted model for the 
forecasting and has given the less RMSE error .The trend in forecasting we can 
say that it increase exponentially with the minimum of passengers 250 and
maxiimum of passengers may hit 400
'''
#=====================================================================================

#=====================================================================================

#------------------------------ CocaCola_Sales_Rawdata ---------------------------------

import pandas as pd
import matplotlib.pyplot as plt
import seaborn as sns
import numpy as np

data = pd.read_excel('CocaCola_Sales_Rawdata.xlsx')
data.head()

plt.plot(data['Sales'])

data['Year'] = data['Quarter'].str[-2:]
data['Quarter'] = data['Quarter'].str[:2]

data['t'] = data.index+1
data['t_square'] = data['t']**2
data['log_sales'] = np.log(data['Sales'])
data = pd.get_dummies(data=data, columns=['Quarter'])

plt.figure(figsize=(15,5))
sns.lineplot(data=data,x='Year',y='Sales')

data.shape

train = data.iloc[:30]
test = data.iloc[30:]

# Building models
#Linear Model

import statsmodels.formula.api as smf
from sklearn.metrics import mean_squared_error

linear_model = smf.ols('Sales~t', data=train).fit()
pred_linear = linear_model.predict(test['t'])
rmse_linear = np.sqrt(mean_squared_error(test['Sales'],pred_linear))
print('rmse for linear model is',rmse_linear)

# Exponential Model

exp_model = smf.ols('log_sales~t', data=train).fit()
pred_exp = exp_model.predict(test['t'])
rmse_exp = np.sqrt(mean_squared_error(test['log_sales'],pred_exp))
print('rmse for exponential model',rmse_exp)

# Quadratic Model

quad_model = smf.ols('Sales~t+t_square', data=train).fit()
pred_quad = quad_model.predict(test[['t','t_square']])
rmse_quad = np.sqrt(mean_squared_error(test['Sales'],pred_quad))
print('rmse for quadratic model is',rmse_quad)

# Additive Seasonality Model

add_sea = smf.ols('Sales~Quarter_Q1+Quarter_Q2+Quarter_Q3+Quarter_Q4', data=train).fit()
pred_add_sea = add_sea.predict(test[['Quarter_Q1','Quarter_Q2','Quarter_Q3','Quarter_Q4']])
rmse_add_sea = np.sqrt(mean_squared_error(test['Sales'],pred_add_sea))
print('rmse for additive seasonality model is',rmse_add_sea)

# Additive Seasonality Quadratic Model

add_sea_quad_model = smf.ols('Sales~t+t_square+Quarter_Q1+Quarter_Q2+Quarter_Q3+Quarter_Q4', data=train).fit()
pred_add_sea_quad = add_sea_quad_model.predict(test[['t','t_square','Quarter_Q1','Quarter_Q2','Quarter_Q3','Quarter_Q4']])
rmse_add_sea_quad = np.sqrt(mean_squared_error(test['Sales'],pred_add_sea_quad))
print('rmse for additive seasonality quadratic model is',rmse_add_sea_quad)

# Multiplicative Seasonality

mult_sea_model = smf.ols('log_sales~Quarter_Q1+Quarter_Q2+Quarter_Q3+Quarter_Q4', data=train).fit()
pred_mult_sea = mult_sea_model.predict(test[['Quarter_Q1','Quarter_Q2','Quarter_Q3','Quarter_Q4']])
rmse_mult_sea = np.sqrt(mean_squared_error(test['log_sales'],pred_mult_sea))
print('rmse for multiplicative seasonality model is',rmse_mult_sea)

#Comparing Results

result_data = pd.DataFrame({'Model':['linear','exponential','quadratic','add_sea','add_sea_quad','mul_sea'],
                            'RMSE_values':[rmse_linear,rmse_exp,rmse_quad,rmse_add_sea,rmse_add_sea_quad,rmse_mult_sea]})
result_data.sort_values('RMSE_values')

plt.figure(figsize=(15,5))
sns.lineplot(data=data, x='t', y='Sales')
sns.lineplot(x=test['t'], y=pred_linear, label='linear model')
sns.lineplot(x=test['t'], y=np.exp(pred_exp), label='exponential model')
sns.lineplot(x=test['t'], y=pred_quad, label='quadratic model')
sns.lineplot(x=test['t'], y=pred_add_sea, label='additive seasonality model')
sns.lineplot(x=test['t'], y=pred_add_sea_quad, label='additive seasonality quadratic model')
sns.lineplot(x=test['t'], y=np.exp(pred_mult_sea), label='multiplicative seasonality model')
plt.legend()

'''
ARIMA model
Checking data 
p>0.05 --> Non-stationary 
p<0.05 --> Stationary
'''

from statsmodels.tsa.stattools import adfuller

def ad_test(dataset):
    dftest = adfuller(dataset,autolag='AIC')
    print("p-value: ",dftest[1])

ad_test(data['Sales'])

pip install pmdarima

from pmdarima import auto_arima
stepwise_fit = auto_arima(data['Sales'],
                          start_p=1, start_q=1, max_p=3, max_q=3,
                          m=12, start_P=0, seasonal=True, d=None, D=1, trace=True,
                          error_action='ignore', suppress_warnings=True, stepwise=True)

stepwise_fit.summary()

from statsmodels.tsa.statespace.sarimax import SARIMAX
  
arima_model = SARIMAX(train['Sales'],order=(0,1,0),seasonal_order=(0,1,0,12))
  
arima_model = arima_model.fit()
arima_model.summary()

start = len(train)
end = len(train)+len(test)-1
print(start,end)

pred_arima = arima_model.predict(start=start, end=end)
pred_arima

rmse_arima = np.sqrt(mean_squared_error(pred_arima,test['Sales']))
print('rmse for ARIMA model is',rmse_arima)

plt.figure(figsize=(15,5))
sns.lineplot(data['Sales'])
sns.lineplot(pred_arima, label='ARIMA prediction')

'''
Observation
Exponetial and Multiplicative Seasonality are the best fitted models with
negligible RMSE error and predicting trends repeats in a positive way for
sales which showcasing the better average sales than previous years
'''
#========================================================================================